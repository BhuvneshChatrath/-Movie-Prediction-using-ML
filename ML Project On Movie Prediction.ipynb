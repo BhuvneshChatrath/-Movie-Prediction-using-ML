{
 "cells": [
  {
   "cell_type": "code",
   "execution_count": 17,
   "id": "a45995fb-7ebc-4ea0-b1fa-8ea808cb9efb",
   "metadata": {},
   "outputs": [
    {
     "name": "stdout",
     "output_type": "stream",
     "text": [
      "Project on Movie Prediction\n"
     ]
    }
   ],
   "source": [
    "print (\"Project on Movie Prediction\")"
   ]
  },
  {
   "cell_type": "code",
   "execution_count": null,
   "id": "7c76af01-23d5-4ed8-bb00-d90f52f29a8f",
   "metadata": {},
   "outputs": [],
   "source": [
    "import pandas as pd\n",
    "from sklearn.feature_extraction.text import TfidfVectorizer\n",
    "from sklearn.neighbors import NearestNeighbors\n",
    "\n",
    "# Load Movie Dataset (Load only required columns)\n",
    "movies = pd.read_csv(\"C:/Users/hp/movie.csv\", usecols=[\"movieId\", \"title\", \"genres\"])\n",
    "\n",
    "# Fill NaN values\n",
    "movies['genres'] = movies['genres'].fillna('')\n",
    "\n",
    "# Reduce Dataset Size (Take only 10,000 movies)\n",
    "movies = movies.head(10000)  # <--  first 10,000 movies  will take \n",
    "\n",
    "# Convert Genres into Features (Sparse Matrix)\n",
    "tfidf = TfidfVectorizer(stop_words=\"english\", max_features=5000)  # Max 5000 words to save memory\n",
    "tfidf_matrix = tfidf.fit_transform(movies['genres'])\n",
    "\n",
    "# Use Nearest Neighbors (No Full Cosine Similarity Matrix)\n",
    "model = NearestNeighbors(metric='cosine', algorithm='brute', n_neighbors=6)\n",
    "model.fit(tfidf_matrix)\n",
    "\n",
    "#Create Movie Index\n",
    "indices = pd.Series(movies.index, index=movies['title']).drop_duplicates()\n",
    "\n",
    "# Define Efficient Recommendation Function\n",
    "def recommend_movies(title, num_recommendations=5):\n",
    "    if title not in indices:\n",
    "        return [\"Movie not found!\"]\n",
    "    \n",
    "    idx = indices[title]\n",
    "    distances, indices_list = model.kneighbors(tfidf_matrix[idx], n_neighbors=num_recommendations+1)\n",
    "    \n",
    "    recommended_movies = movies['title'].iloc[indices_list[0][1:]].tolist()\n",
    "    \n",
    "    return recommended_movies\n",
    "\n",
    "#Take User Input\n",
    "movie_name = input(\"\\n🎬 Enter a movie name: \")  # <--  this will take input of movie name from user \n",
    "recommended_movies = recommend_movies(movie_name)\n",
    "\n",
    "# Display Output\n",
    "print(f\"\\n🔥 If you liked '{movie_name}', you might also like:\")\n",
    "for i, movie in enumerate(recommended_movies, start=1):\n",
    "    print(f\"{i}. {movie}\")\n"
   ]
  },
  {
   "cell_type": "code",
   "execution_count": null,
   "id": "c53ec733-22c5-4cc9-bf50-1d658610501a",
   "metadata": {},
   "outputs": [],
   "source": []
  }
 ],
 "metadata": {
  "kernelspec": {
   "display_name": "Python 3 (ipykernel)",
   "language": "python",
   "name": "python3"
  },
  "language_info": {
   "codemirror_mode": {
    "name": "ipython",
    "version": 3
   },
   "file_extension": ".py",
   "mimetype": "text/x-python",
   "name": "python",
   "nbconvert_exporter": "python",
   "pygments_lexer": "ipython3",
   "version": "3.13.2"
  }
 },
 "nbformat": 4,
 "nbformat_minor": 5
}
